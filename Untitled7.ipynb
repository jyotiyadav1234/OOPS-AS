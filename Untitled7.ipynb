{
 "cells": [
  {
   "cell_type": "markdown",
   "id": "1e0403cb",
   "metadata": {},
   "source": [
    "1. What are the five key concepts of Object–Oriented Programming (OOP)?\n",
    "\n",
    "\n",
    "Answer:\n",
    "The five key concepts of OOP are:\n",
    "\n",
    "Class – A blueprint for creating objects.\n",
    "\n",
    "Object – An instance of a class.\n",
    "\n",
    "Encapsulation – Binding data and methods together while hiding internal details.\n",
    "\n",
    "Inheritance – One class can inherit attributes and methods from another.\n",
    "\n",
    "Polymorphism – The ability to take many forms; the same interface can represent different data types.\n",
    "\n"
   ]
  },
  {
   "cell_type": "code",
   "execution_count": 2,
   "id": "0f28f49f",
   "metadata": {},
   "outputs": [],
   "source": [
    "#2 Write a Python class for a \"Car\" with attributes for \"make\", \"model\", and \"year\". Include a method to display the car's information.\n",
    "class Car:\n",
    "    def __init__(self, make, model, year):\n",
    "        self.make = make\n",
    "        self.model = model\n",
    "        self.year = year\n",
    "\n",
    "    def display_info(self):\n",
    "        print(f\"{self.year} {self.make} {self.model}\")\n",
    "\n"
   ]
  },
  {
   "cell_type": "code",
   "execution_count": 3,
   "id": "deae0ca3",
   "metadata": {},
   "outputs": [],
   "source": [
    "#3. Explain the difference between instance methods and class methods. Provide an example of each.\n",
    "#Answer:\n",
    "\n",
    "#Instance methods operate on an instance of the class.\n",
    "\n",
    "#Class methods operate on the class itself and use @classmethod.\n",
    "\n",
    "class Example:\n",
    "    count = 0\n",
    "\n",
    "    def __init__(self):\n",
    "        Example.count += 1\n",
    "\n",
    "    def instance_method(self):\n",
    "        return \"This is an instance method\"\n",
    "\n",
    "    @classmethod\n",
    "    def class_method(cls):\n",
    "        return f\"Total instances: {cls.count}\"\n",
    "\n"
   ]
  },
  {
   "cell_type": "code",
   "execution_count": 6,
   "id": "d81765bc",
   "metadata": {},
   "outputs": [],
   "source": [
    "#4. How does Python implement method overloading? Give an example.\n",
    "#Answer:\n",
    "#Python does not support traditional method overloading but achieves it using default parameters or *args.\n",
    "\n",
    "class Greet:\n",
    "    def hello(self, name=None):\n",
    "        if name:\n",
    "            print(f\"Hello, {name}\")\n",
    "        else:\n",
    "            print(\"Hello!\")\n"
   ]
  },
  {
   "cell_type": "markdown",
   "id": "2d3d4055",
   "metadata": {},
   "source": [
    "5. What are the three types of access modifiers in Python? How are they denoted?\n",
    "\n",
    "\n",
    "Answer:\n",
    "\n",
    "Public – Accessible from anywhere (variable).\n",
    "\n",
    "Protected – Indicated by a single underscore (_variable).\n",
    "\n",
    "Private – Indicated by double underscores (__variable).\n",
    "\n",
    "6. Describe the five types of inheritance in Python. Provide a simple example of multiple inheritance.\n",
    "\n",
    "\n",
    "Answer:\n",
    "Types:\n",
    "\n",
    "Single\n",
    "\n",
    "Multiple\n",
    "\n",
    "Multilevel\n",
    "\n",
    "Hierarchical\n",
    "\n",
    "Hybrid\n",
    "\n",
    "Example of Multiple Inheritance:"
   ]
  },
  {
   "cell_type": "code",
   "execution_count": 7,
   "id": "b5b48d1a",
   "metadata": {},
   "outputs": [
    {
     "name": "stdout",
     "output_type": "stream",
     "text": [
      "Method A\n",
      "Method B\n"
     ]
    }
   ],
   "source": [
    "class A:\n",
    "    def methodA(self):\n",
    "        print(\"Method A\")\n",
    "\n",
    "class B:\n",
    "    def methodB(self):\n",
    "        print(\"Method B\")\n",
    "\n",
    "class C(A, B):\n",
    "    pass\n",
    "\n",
    "c = C()\n",
    "c.methodA()\n",
    "c.methodB()\n"
   ]
  },
  {
   "cell_type": "markdown",
   "id": "7a3e6641",
   "metadata": {},
   "source": [
    "7. What is the Method Resolution Order (MRO) in Python? How can you retrieve it programmatically?\n",
    "\n",
    "\n",
    "Answer:\n",
    "MRO is the order in which Python looks for methods in multiple inheritance.\n",
    "Retrieve it using:\n",
    "    print(ClassName.__mro__)\n"
   ]
  },
  {
   "cell_type": "code",
   "execution_count": 9,
   "id": "d2f8cf1d",
   "metadata": {},
   "outputs": [],
   "source": [
    "#8. Create an abstract base class \"Shape\" with an abstract method \"area()\". Then create two subclasses \"Circle\" and \"Rectangle\" that implement the \"area()\" method.\n",
    "from abc import ABC, abstractmethod\n",
    "import math\n",
    "\n",
    "class Shape(ABC):\n",
    "    @abstractmethod\n",
    "    def area(self):\n",
    "        pass\n",
    "\n",
    "class Circle(Shape):\n",
    "    def __init__(self, radius):\n",
    "        self.radius = radius\n",
    "\n",
    "    def area(self):\n",
    "        return math.pi * self.radius ** 2\n",
    "\n",
    "class Rectangle(Shape):\n",
    "    def __init__(self, width, height):\n",
    "        self.width = width\n",
    "        self.height = height\n",
    "\n",
    "    def area(self):\n",
    "        return self.width * self.height\n"
   ]
  },
  {
   "cell_type": "code",
   "execution_count": 10,
   "id": "9e5c1718",
   "metadata": {},
   "outputs": [
    {
     "name": "stdout",
     "output_type": "stream",
     "text": [
      "Area: 78.53981633974483\n",
      "Area: 24\n"
     ]
    }
   ],
   "source": [
    "#9. Demonstrate polymorphism by creating a function that can work with different shape objects to calculate and print their areas.\n",
    "def print_area(shape):\n",
    "    print(\"Area:\", shape.area())\n",
    "\n",
    "c = Circle(5)\n",
    "r = Rectangle(4, 6)\n",
    "\n",
    "print_area(c)\n",
    "print_area(r)\n"
   ]
  },
  {
   "cell_type": "code",
   "execution_count": 11,
   "id": "1669a644",
   "metadata": {},
   "outputs": [],
   "source": [
    "#10. Implement encapsulation in a \"BankAccount\" class with private attributes for \"balance\" and \"account_number\". Include methods for deposit, withdrawal, and balance inquiry.\n",
    "class BankAccount:\n",
    "    def __init__(self, account_number, balance=0):\n",
    "        self.__account_number = account_number\n",
    "        self.__balance = balance\n",
    "\n",
    "    def deposit(self, amount):\n",
    "        self.__balance += amount\n",
    "\n",
    "    def withdraw(self, amount):\n",
    "        if amount <= self.__balance:\n",
    "            self.__balance -= amount\n",
    "\n",
    "    def get_balance(self):\n",
    "        return self.__balance\n"
   ]
  },
  {
   "cell_type": "code",
   "execution_count": 12,
   "id": "ed9f3cd6",
   "metadata": {},
   "outputs": [],
   "source": [
    "#11. Write a class that overrides the __str__, __repr__, and __add__ magic methods. What will these methods allow you to do?\n",
    "class Number:\n",
    "    def __init__(self, value):\n",
    "        self.value = value\n",
    "\n",
    "    def __str__(self):\n",
    "        return f\"Number: {self.value}\"\n",
    "\n",
    "    def __repr__(self):\n",
    "        return f\"Number({self.value})\"\n",
    "\n",
    "    def __add__(self, other):\n",
    "        return Number(self.value + other.value)\n"
   ]
  },
  {
   "cell_type": "code",
   "execution_count": 13,
   "id": "92d8b7ed",
   "metadata": {},
   "outputs": [],
   "source": [
    "#12. Create a decorator that measures and prints the execution time of a function\n",
    "import time\n",
    "\n",
    "def timer(func):\n",
    "    def wrapper(*args, **kwargs):\n",
    "        start = time.time()\n",
    "        result = func(*args, **kwargs)\n",
    "        end = time.time()\n",
    "        print(f\"Execution time: {end - start:.4f} seconds\")\n",
    "        return result\n",
    "    return wrapper\n"
   ]
  },
  {
   "cell_type": "markdown",
   "id": "da79ae3f",
   "metadata": {},
   "source": [
    "13. Explain the concept of the Diamond Problem in multiple inheritance. How does Python resolve it?\n",
    "\n",
    "\n",
    "Answer:\n",
    "The Diamond Problem occurs when a class inherits from two classes that both inherit from the same superclass.\n",
    "Python resolves this using Method Resolution Order (MRO) and the C3 Linearization algorithm."
   ]
  },
  {
   "cell_type": "code",
   "execution_count": 14,
   "id": "43139ac6",
   "metadata": {},
   "outputs": [],
   "source": [
    "#14. Write a class method that keeps track of the number of instances created from a class.\n",
    "class MyClass:\n",
    "    count = 0\n",
    "\n",
    "    def __init__(self):\n",
    "        MyClass.count += 1\n",
    "\n",
    "    @classmethod\n",
    "    def get_instance_count(cls):\n",
    "        return cls.count\n"
   ]
  },
  {
   "cell_type": "code",
   "execution_count": 15,
   "id": "d17f4936",
   "metadata": {},
   "outputs": [],
   "source": [
    "#15. Implement a static method in a class that checks if a given year is a leap year.\n",
    "class Utility:\n",
    "    @staticmethod\n",
    "    def is_leap_year(year):\n",
    "        return (year % 4 == 0 and year % 100 != 0) or (year % 400 == 0)\n",
    "\n"
   ]
  }
 ],
 "metadata": {
  "kernelspec": {
   "display_name": "Python 3 (ipykernel)",
   "language": "python",
   "name": "python3"
  },
  "language_info": {
   "codemirror_mode": {
    "name": "ipython",
    "version": 3
   },
   "file_extension": ".py",
   "mimetype": "text/x-python",
   "name": "python",
   "nbconvert_exporter": "python",
   "pygments_lexer": "ipython3",
   "version": "3.11.7"
  }
 },
 "nbformat": 4,
 "nbformat_minor": 5
}
